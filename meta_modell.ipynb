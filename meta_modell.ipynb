{
 "cells": [
  {
   "cell_type": "code",
   "execution_count": 7,
   "id": "d8915063-6125-404f-85d4-3abf9cfbd668",
   "metadata": {},
   "outputs": [],
   "source": [
    "%matplotlib widget\n",
    "import pandas as pd\n",
    "import numpy as np\n",
    "import csv \n",
    "import matplotlib as mpl\n",
    "import matplotlib.pyplot as plt\n",
    "from matplotlib.widgets import TextBox\n",
    "import matplotlib\n",
    "import math\n",
    "import sklearn.model_selection\n",
    "from sklearn.neighbors import KNeighborsRegressor\n",
    "import metamodell\n",
    "from IPython.display import display\n",
    "import customstats"
   ]
  },
  {
   "cell_type": "markdown",
   "id": "17ddf817-e151-4105-8737-37ecc04f46df",
   "metadata": {},
   "source": [
    "# Read CSV-Data"
   ]
  },
  {
   "cell_type": "code",
   "execution_count": 8,
   "id": "68d5ff96-25c4-42c1-ba79-ac9902fd1260",
   "metadata": {},
   "outputs": [],
   "source": [
    "def load():\n",
    "    filename=\"collected_results.csv\"\n",
    "    with open(filename,\"r\") as fil:\n",
    "        fields=[i.strip() for i in fil.readline().split(\",\")]\n",
    "    data=np.genfromtxt(filename,skip_header=1,delimiter=\",\")\n",
    "    return fields,data\n",
    "fields,data=load()"
   ]
  },
  {
   "cell_type": "markdown",
   "id": "2eb1a99f-6af9-4aac-8421-afcb0fdad445",
   "metadata": {},
   "source": [
    "# Select outputs to train modell for"
   ]
  },
  {
   "cell_type": "code",
   "execution_count": 9,
   "id": "1057aa6f-bc3e-42a9-945e-e1ffa1cae574",
   "metadata": {},
   "outputs": [],
   "source": [
    "desired_outputs={'error_schicht','error_wez0', 'error_delr0', 'error_wez90', 'error_delr90', 'error_wez', 'error_delr', 'error_ges'}\n",
    "nr_inputs=21\n",
    "#do not use energy-ratio since entirely dependent on relative expansion\n",
    "desired_idx=[i for i in range(nr_inputs) if fields[i] != \"energy_ratio\"]+[i for i,name in enumerate(fields) if name in desired_outputs]\n",
    "nr_inputs=nr_inputs-1\n",
    "fields,data=load()\n",
    "data=data[:,desired_idx]\n",
    "metamodell_fields=[fields[i] for i in desired_idx]"
   ]
  },
  {
   "cell_type": "markdown",
   "id": "a3150a2f-f51e-4338-a7f9-2faa8ef024b7",
   "metadata": {},
   "source": [
    "# generate Test- and Train-Data"
   ]
  },
  {
   "cell_type": "code",
   "execution_count": 10,
   "id": "84f9e48d-4f94-4e8d-9a38-6615a3eb5856",
   "metadata": {},
   "outputs": [],
   "source": [
    "nr_points=data.shape[0]\n",
    "ratio_test=0.25 #how many datapoints shall be used for testing\n",
    "idx_train,idx_test=sklearn.model_selection.train_test_split(range(nr_points),test_size=ratio_test)\n"
   ]
  },
  {
   "cell_type": "markdown",
   "id": "8b0e93d9-a3ff-44a7-9165-be200f195518",
   "metadata": {},
   "source": [
    "# define kinds of meta_modells to train"
   ]
  },
  {
   "cell_type": "code",
   "execution_count": 11,
   "id": "98a7309d-9fb8-41f1-a367-dd2623264ba4",
   "metadata": {},
   "outputs": [],
   "source": [
    "Regressors=[]\n",
    "Regressors.append((\"nearest_neighbour\",KNeighborsRegressor()))"
   ]
  },
  {
   "cell_type": "markdown",
   "id": "3929fb22-d33b-4266-832c-0c98a976182b",
   "metadata": {
    "tags": []
   },
   "source": [
    "# evaluate different metamodells"
   ]
  },
  {
   "cell_type": "code",
   "execution_count": 12,
   "id": "f4e1ef6f-f9a2-4344-856f-3da1e56c6e71",
   "metadata": {},
   "outputs": [
    {
     "data": {
      "text/markdown": [
       "# amax of errors of all test-points"
      ],
      "text/plain": [
       "<IPython.core.display.Markdown object>"
      ]
     },
     "metadata": {},
     "output_type": "display_data"
    },
    {
     "data": {
      "text/html": [
       "<style type=\"text/css\">\n",
       "</style>\n",
       "<table id=\"T_45f94_\">\n",
       "  <caption>average over 100 different training-sets</caption>\n",
       "  <thead>\n",
       "    <tr>\n",
       "      <th class=\"blank level0\" >&nbsp;</th>\n",
       "      <th class=\"col_heading level0 col0\" >0</th>\n",
       "      <th class=\"col_heading level0 col1\" >1</th>\n",
       "      <th class=\"col_heading level0 col2\" >2</th>\n",
       "    </tr>\n",
       "  </thead>\n",
       "  <tbody>\n",
       "    <tr>\n",
       "      <th id=\"T_45f94_level0_row0\" class=\"row_heading level0 row0\" >nearest_neighbour</th>\n",
       "      <td id=\"T_45f94_row0_col0\" class=\"data row0 col0\" >0.182824</td>\n",
       "      <td id=\"T_45f94_row0_col1\" class=\"data row0 col1\" >0.183564</td>\n",
       "      <td id=\"T_45f94_row0_col2\" class=\"data row0 col2\" >0.183598</td>\n",
       "    </tr>\n",
       "  </tbody>\n",
       "</table>\n"
      ],
      "text/plain": [
       "<pandas.io.formats.style.Styler at 0x7f664d18db50>"
      ]
     },
     "metadata": {},
     "output_type": "display_data"
    },
    {
     "data": {
      "text/html": [
       "<style type=\"text/css\">\n",
       "</style>\n",
       "<table id=\"T_69ff0_\">\n",
       "  <caption>standart deviation over 100 different training-sets</caption>\n",
       "  <thead>\n",
       "    <tr>\n",
       "      <th class=\"blank level0\" >&nbsp;</th>\n",
       "      <th class=\"col_heading level0 col0\" >0</th>\n",
       "      <th class=\"col_heading level0 col1\" >1</th>\n",
       "      <th class=\"col_heading level0 col2\" >2</th>\n",
       "    </tr>\n",
       "  </thead>\n",
       "  <tbody>\n",
       "    <tr>\n",
       "      <th id=\"T_69ff0_level0_row0\" class=\"row_heading level0 row0\" >nearest_neighbour</th>\n",
       "      <td id=\"T_69ff0_row0_col0\" class=\"data row0 col0\" >0.033857</td>\n",
       "      <td id=\"T_69ff0_row0_col1\" class=\"data row0 col1\" >0.034253</td>\n",
       "      <td id=\"T_69ff0_row0_col2\" class=\"data row0 col2\" >0.034281</td>\n",
       "    </tr>\n",
       "  </tbody>\n",
       "</table>\n"
      ],
      "text/plain": [
       "<pandas.io.formats.style.Styler at 0x7f664d18df70>"
      ]
     },
     "metadata": {},
     "output_type": "display_data"
    },
    {
     "data": {
      "text/markdown": [
       "# average of errors of all test-points"
      ],
      "text/plain": [
       "<IPython.core.display.Markdown object>"
      ]
     },
     "metadata": {},
     "output_type": "display_data"
    },
    {
     "data": {
      "text/html": [
       "<style type=\"text/css\">\n",
       "</style>\n",
       "<table id=\"T_230bb_\">\n",
       "  <caption>average over 100 different training-sets</caption>\n",
       "  <thead>\n",
       "    <tr>\n",
       "      <th class=\"blank level0\" >&nbsp;</th>\n",
       "      <th class=\"col_heading level0 col0\" >0</th>\n",
       "      <th class=\"col_heading level0 col1\" >1</th>\n",
       "      <th class=\"col_heading level0 col2\" >2</th>\n",
       "    </tr>\n",
       "  </thead>\n",
       "  <tbody>\n",
       "    <tr>\n",
       "      <th id=\"T_230bb_level0_row0\" class=\"row_heading level0 row0\" >nearest_neighbour</th>\n",
       "      <td id=\"T_230bb_row0_col0\" class=\"data row0 col0\" >0.040831</td>\n",
       "      <td id=\"T_230bb_row0_col1\" class=\"data row0 col1\" >0.040682</td>\n",
       "      <td id=\"T_230bb_row0_col2\" class=\"data row0 col2\" >0.040669</td>\n",
       "    </tr>\n",
       "  </tbody>\n",
       "</table>\n"
      ],
      "text/plain": [
       "<pandas.io.formats.style.Styler at 0x7f664d18da60>"
      ]
     },
     "metadata": {},
     "output_type": "display_data"
    },
    {
     "data": {
      "text/html": [
       "<style type=\"text/css\">\n",
       "</style>\n",
       "<table id=\"T_ecb85_\">\n",
       "  <caption>standart deviation over 100 different training-sets</caption>\n",
       "  <thead>\n",
       "    <tr>\n",
       "      <th class=\"blank level0\" >&nbsp;</th>\n",
       "      <th class=\"col_heading level0 col0\" >0</th>\n",
       "      <th class=\"col_heading level0 col1\" >1</th>\n",
       "      <th class=\"col_heading level0 col2\" >2</th>\n",
       "    </tr>\n",
       "  </thead>\n",
       "  <tbody>\n",
       "    <tr>\n",
       "      <th id=\"T_ecb85_level0_row0\" class=\"row_heading level0 row0\" >nearest_neighbour</th>\n",
       "      <td id=\"T_ecb85_row0_col0\" class=\"data row0 col0\" >0.005858</td>\n",
       "      <td id=\"T_ecb85_row0_col1\" class=\"data row0 col1\" >0.005867</td>\n",
       "      <td id=\"T_ecb85_row0_col2\" class=\"data row0 col2\" >0.005867</td>\n",
       "    </tr>\n",
       "  </tbody>\n",
       "</table>\n"
      ],
      "text/plain": [
       "<pandas.io.formats.style.Styler at 0x7f664d18d760>"
      ]
     },
     "metadata": {},
     "output_type": "display_data"
    }
   ],
   "source": [
    "\n",
    "def evaluate_row(row_predicted,row_real):\n",
    "    #error when predicting the resulting error directly\n",
    "    errors=[0.0 for i in range(3)]\n",
    "    error_ges_real=row_real['error_ges']\n",
    "    error_ges_predicted=row_predicted['error_ges']\n",
    "    errors[0]=customstats.rel_deviation(error_ges_real,error_ges_predicted)**2\n",
    "    \n",
    "    #error when predicting the errors for wez,cut and schicht\n",
    "    error_wez_predicted=row_predicted['error_wez']\n",
    "    error_spalt_predicted=row_predicted['error_delr']\n",
    "    error_schicht_predicted=row_predicted['error_schicht']\n",
    "    error_ges_predicted=customstats.sqrt_MSE([error_wez_predicted,error_spalt_predicted])+error_schicht_predicted\n",
    "    errors[1]=customstats.rel_deviation(error_ges_real,error_ges_predicted)**2\n",
    "    \n",
    "    #error when predicting the errors for wez,cut for each qs and schicht\n",
    "    errors_qs_predicted=[row_predicted['error_wez0'],row_predicted['error_wez90'],row_predicted['error_delr0'],row_predicted['error_delr90']]\n",
    "    error_ges_predicted=customstats.sqrt_MSE(errors_qs_predicted)+error_schicht_predicted\n",
    "    errors[2]=customstats.rel_deviation(error_ges_real,error_ges_predicted)**2\n",
    "    return tuple(errors)\n",
    "metamodell.tryout_metamodells(Regressors,data,nr_inputs,evaluate_row,3,metamodell_fields,nr_tries=100)"
   ]
  },
  {
   "cell_type": "code",
   "execution_count": null,
   "id": "7562fcbb-29d7-4234-8995-ebf1beb7a6bf",
   "metadata": {},
   "outputs": [],
   "source": []
  },
  {
   "cell_type": "code",
   "execution_count": null,
   "id": "488138b6-fdbd-4129-9cad-3ec3b2c4d8a9",
   "metadata": {},
   "outputs": [],
   "source": []
  },
  {
   "cell_type": "code",
   "execution_count": null,
   "id": "e2da2591-9028-41e5-b1a9-55d371e0eeaa",
   "metadata": {},
   "outputs": [],
   "source": []
  }
 ],
 "metadata": {
  "kernelspec": {
   "display_name": "Python 3 (ipykernel)",
   "language": "python",
   "name": "python3"
  },
  "language_info": {
   "codemirror_mode": {
    "name": "ipython",
    "version": 3
   },
   "file_extension": ".py",
   "mimetype": "text/x-python",
   "name": "python",
   "nbconvert_exporter": "python",
   "pygments_lexer": "ipython3",
   "version": "3.8.10"
  }
 },
 "nbformat": 4,
 "nbformat_minor": 5
}
