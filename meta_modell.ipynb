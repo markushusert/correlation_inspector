{
 "cells": [
  {
   "cell_type": "code",
   "execution_count": 39,
   "id": "d8915063-6125-404f-85d4-3abf9cfbd668",
   "metadata": {},
   "outputs": [],
   "source": [
    "%matplotlib widget\n",
    "import pandas as pd\n",
    "import numpy as np\n",
    "import csv \n",
    "import matplotlib as mpl\n",
    "import matplotlib.pyplot as plt\n",
    "from matplotlib.widgets import TextBox\n",
    "import matplotlib\n",
    "import math\n",
    "import sklearn.model_selection\n",
    "from sklearn.neighbors import KNeighborsRegressor\n",
    "import metamodell\n",
    "from IPython.display import display\n",
    "import customstats"
   ]
  },
  {
   "cell_type": "markdown",
   "id": "17ddf817-e151-4105-8737-37ecc04f46df",
   "metadata": {},
   "source": [
    "# Read CSV-Data"
   ]
  },
  {
   "cell_type": "code",
   "execution_count": 40,
   "id": "68d5ff96-25c4-42c1-ba79-ac9902fd1260",
   "metadata": {},
   "outputs": [],
   "source": [
    "def load():\n",
    "    filename=\"collected_results.csv\"\n",
    "    with open(filename,\"r\") as fil:\n",
    "        fields=[i.strip() for i in fil.readline().split(\",\")]\n",
    "    data=np.genfromtxt(filename,skip_header=1,delimiter=\",\")\n",
    "    return fields,data\n",
    "fields,data=load()"
   ]
  },
  {
   "cell_type": "markdown",
   "id": "2eb1a99f-6af9-4aac-8421-afcb0fdad445",
   "metadata": {},
   "source": [
    "# Select outputs to train modell for"
   ]
  },
  {
   "cell_type": "code",
   "execution_count": 41,
   "id": "1057aa6f-bc3e-42a9-945e-e1ffa1cae574",
   "metadata": {},
   "outputs": [],
   "source": [
    "desired_outputs={'error_schicht','error_wez0', 'error_delr0', 'error_wez90', 'error_delr90', 'error_wez', 'error_delr', 'error_ges'}\n",
    "nr_inputs=21\n",
    "#do not use energy-ratio since entirely dependent on relative expansion\n",
    "desired_idx=[i for i in range(nr_inputs) if fields[i] != \"energy_ratio\"]+[i for i,name in enumerate(fields) if name in desired_outputs]\n",
    "nr_inputs=nr_inputs-1\n",
    "fields,data=load()\n",
    "data=data[:,desired_idx]\n",
    "metamodell_fields=[fields[i] for i in desired_idx]"
   ]
  },
  {
   "cell_type": "markdown",
   "id": "a3150a2f-f51e-4338-a7f9-2faa8ef024b7",
   "metadata": {},
   "source": [
    "# generate Test- and Train-Data"
   ]
  },
  {
   "cell_type": "code",
   "execution_count": 42,
   "id": "84f9e48d-4f94-4e8d-9a38-6615a3eb5856",
   "metadata": {},
   "outputs": [],
   "source": [
    "nr_points=data.shape[0]\n",
    "ratio_test=0.25 #how many datapoints shall be used for testing\n",
    "idx_train,idx_test=sklearn.model_selection.train_test_split(range(nr_points),test_size=ratio_test)\n"
   ]
  },
  {
   "cell_type": "markdown",
   "id": "8b0e93d9-a3ff-44a7-9165-be200f195518",
   "metadata": {},
   "source": [
    "# define kinds of meta_modells to train"
   ]
  },
  {
   "cell_type": "code",
   "execution_count": 43,
   "id": "98a7309d-9fb8-41f1-a367-dd2623264ba4",
   "metadata": {},
   "outputs": [],
   "source": [
    "Regressors=[]\n",
    "Regressors.append((\"nearest_neighbour\",KNeighborsRegressor()))"
   ]
  },
  {
   "cell_type": "markdown",
   "id": "3929fb22-d33b-4266-832c-0c98a976182b",
   "metadata": {
    "tags": []
   },
   "source": [
    "# evaluate different metamodells"
   ]
  },
  {
   "cell_type": "code",
   "execution_count": 44,
   "id": "f4e1ef6f-f9a2-4344-856f-3da1e56c6e71",
   "metadata": {},
   "outputs": [
    {
     "name": "stdout",
     "output_type": "stream",
     "text": [
      "amax\n"
     ]
    },
    {
     "data": {
      "text/html": [
       "<div>\n",
       "<style scoped>\n",
       "    .dataframe tbody tr th:only-of-type {\n",
       "        vertical-align: middle;\n",
       "    }\n",
       "\n",
       "    .dataframe tbody tr th {\n",
       "        vertical-align: top;\n",
       "    }\n",
       "\n",
       "    .dataframe thead th {\n",
       "        text-align: right;\n",
       "    }\n",
       "</style>\n",
       "<table border=\"1\" class=\"dataframe\">\n",
       "  <thead>\n",
       "    <tr style=\"text-align: right;\">\n",
       "      <th></th>\n",
       "      <th>0</th>\n",
       "      <th>1</th>\n",
       "      <th>2</th>\n",
       "    </tr>\n",
       "  </thead>\n",
       "  <tbody>\n",
       "    <tr>\n",
       "      <th>nearest_neighbour</th>\n",
       "      <td>0.230389</td>\n",
       "      <td>0.230701</td>\n",
       "      <td>0.230865</td>\n",
       "    </tr>\n",
       "  </tbody>\n",
       "</table>\n",
       "</div>"
      ],
      "text/plain": [
       "                          0         1         2\n",
       "nearest_neighbour  0.230389  0.230701  0.230865"
      ]
     },
     "metadata": {},
     "output_type": "display_data"
    },
    {
     "name": "stdout",
     "output_type": "stream",
     "text": [
      "average\n"
     ]
    },
    {
     "data": {
      "text/html": [
       "<div>\n",
       "<style scoped>\n",
       "    .dataframe tbody tr th:only-of-type {\n",
       "        vertical-align: middle;\n",
       "    }\n",
       "\n",
       "    .dataframe tbody tr th {\n",
       "        vertical-align: top;\n",
       "    }\n",
       "\n",
       "    .dataframe thead th {\n",
       "        text-align: right;\n",
       "    }\n",
       "</style>\n",
       "<table border=\"1\" class=\"dataframe\">\n",
       "  <thead>\n",
       "    <tr style=\"text-align: right;\">\n",
       "      <th></th>\n",
       "      <th>0</th>\n",
       "      <th>1</th>\n",
       "      <th>2</th>\n",
       "    </tr>\n",
       "  </thead>\n",
       "  <tbody>\n",
       "    <tr>\n",
       "      <th>nearest_neighbour</th>\n",
       "      <td>0.042798</td>\n",
       "      <td>0.042672</td>\n",
       "      <td>0.042655</td>\n",
       "    </tr>\n",
       "  </tbody>\n",
       "</table>\n",
       "</div>"
      ],
      "text/plain": [
       "                          0         1         2\n",
       "nearest_neighbour  0.042798  0.042672  0.042655"
      ]
     },
     "metadata": {},
     "output_type": "display_data"
    }
   ],
   "source": [
    "\n",
    "def evaluate_row(row_predicted,row_real):\n",
    "    #error when predicting the resulting error directly\n",
    "    errors=[0.0 for i in range(3)]\n",
    "    error_ges_real=row_real['error_ges']\n",
    "    error_ges_predicted=row_predicted['error_ges']\n",
    "    errors[0]=customstats.rel_deviation(error_ges_real,error_ges_predicted)**2\n",
    "    \n",
    "    #error when predicting the errors for wez,cut and schicht\n",
    "    error_wez_predicted=row_predicted['error_wez']\n",
    "    error_spalt_predicted=row_predicted['error_delr']\n",
    "    error_schicht_predicted=row_predicted['error_schicht']\n",
    "    error_ges_predicted=customstats.sqrt_MSE([error_wez_predicted,error_spalt_predicted])+error_schicht_predicted\n",
    "    errors[1]=customstats.rel_deviation(error_ges_real,error_ges_predicted)**2\n",
    "    \n",
    "    #error when predicting the errors for wez,cut for each qs and schicht\n",
    "    errors_qs_predicted=[row_predicted['error_wez0'],row_predicted['error_wez90'],row_predicted['error_delr0'],row_predicted['error_delr90']]\n",
    "    error_ges_predicted=customstats.sqrt_MSE(errors_qs_predicted)+error_schicht_predicted\n",
    "    errors[2]=customstats.rel_deviation(error_ges_real,error_ges_predicted)**2\n",
    "    return tuple(errors)\n",
    "modells=[]\n",
    "names=[]\n",
    "#create modells\n",
    "for name,Regressor in Regressors:\n",
    "    modell=metamodell.metamodell(data,Regressor,nr_inputs,evaluate_row,metamodell_fields)\n",
    "    modell.split_data(idx_train,idx_test)\n",
    "    modell.train()\n",
    "    modells.append(modell)\n",
    "    names.append(name)\n",
    "#evaluate modells\n",
    "nr_modells=len(names)\n",
    "nr_errors=3\n",
    "for reduce_function in [np.amax,np.average]:\n",
    "    array_modell_error=np.zeros((nr_modells,nr_errors))\n",
    "    df_modell_error=pd.DataFrame(array_modell_error,names)\n",
    "    print(reduce_function.__name__)\n",
    "    for name,modell in zip(names,modells):\n",
    "        df_modell_error.loc[name]=modell.test(reduce_function)\n",
    "    display(df_modell_error)"
   ]
  },
  {
   "cell_type": "code",
   "execution_count": null,
   "id": "7562fcbb-29d7-4234-8995-ebf1beb7a6bf",
   "metadata": {},
   "outputs": [],
   "source": []
  }
 ],
 "metadata": {
  "kernelspec": {
   "display_name": "Python 3 (ipykernel)",
   "language": "python",
   "name": "python3"
  },
  "language_info": {
   "codemirror_mode": {
    "name": "ipython",
    "version": 3
   },
   "file_extension": ".py",
   "mimetype": "text/x-python",
   "name": "python",
   "nbconvert_exporter": "python",
   "pygments_lexer": "ipython3",
   "version": "3.8.10"
  }
 },
 "nbformat": 4,
 "nbformat_minor": 5
}
