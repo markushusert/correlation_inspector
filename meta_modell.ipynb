{
 "cells": [
  {
   "cell_type": "code",
   "execution_count": 1,
   "id": "d8915063-6125-404f-85d4-3abf9cfbd668",
   "metadata": {},
   "outputs": [],
   "source": [
    "%matplotlib widget\n",
    "import pandas as pd\n",
    "import numpy as np\n",
    "import csv \n",
    "import matplotlib as mpl\n",
    "import matplotlib.pyplot as plt\n",
    "from matplotlib.widgets import TextBox\n",
    "import matplotlib\n",
    "import math\n",
    "import sklearn.model_selection\n",
    "from sklearn.neighbors import KNeighborsRegressor\n",
    "import metamodell\n",
    "from IPython.display import display\n",
    "import customstats\n",
    "from sklearn.pipeline import Pipeline\n",
    "from sklearn.preprocessing import PolynomialFeatures\n",
    "from sklearn.tree import DecisionTreeRegressor\n",
    "from sklearn.linear_model import Lasso\n",
    "from sklearn.linear_model import ElasticNet\n",
    "from sklearn.linear_model import Ridge\n",
    "from sklearn.svm import SVR\n",
    "from sklearn.kernel_ridge import KernelRidge"
   ]
  },
  {
   "cell_type": "markdown",
   "id": "17ddf817-e151-4105-8737-37ecc04f46df",
   "metadata": {},
   "source": [
    "# Read CSV-Data"
   ]
  },
  {
   "cell_type": "code",
   "execution_count": 2,
   "id": "68d5ff96-25c4-42c1-ba79-ac9902fd1260",
   "metadata": {},
   "outputs": [],
   "source": [
    "def load():\n",
    "    filename=\"collected_results.csv\"\n",
    "    with open(filename,\"r\") as fil:\n",
    "        fields=[i.strip() for i in fil.readline().split(\",\")]\n",
    "    data=np.genfromtxt(filename,skip_header=1,delimiter=\",\")\n",
    "    return fields,data\n",
    "fields,data=load()"
   ]
  },
  {
   "cell_type": "markdown",
   "id": "2eb1a99f-6af9-4aac-8421-afcb0fdad445",
   "metadata": {},
   "source": [
    "# Select outputs to train modell for"
   ]
  },
  {
   "cell_type": "code",
   "execution_count": 3,
   "id": "1057aa6f-bc3e-42a9-945e-e1ffa1cae574",
   "metadata": {},
   "outputs": [],
   "source": [
    "desired_outputs={'error_schicht','error_wez0', 'error_delr0', 'error_wez90', 'error_delr90', 'error_wez', 'error_delr', 'error_ges'}\n",
    "nr_inputs=21\n",
    "#do not use energy-ratio since entirely dependent on relative expansion\n",
    "nr_inputs=nr_inputs-1\n",
    "fields,data=load()\n"
   ]
  },
  {
   "cell_type": "markdown",
   "id": "a3150a2f-f51e-4338-a7f9-2faa8ef024b7",
   "metadata": {},
   "source": [
    "# generate Test- and Train-Data"
   ]
  },
  {
   "cell_type": "code",
   "execution_count": 4,
   "id": "84f9e48d-4f94-4e8d-9a38-6615a3eb5856",
   "metadata": {},
   "outputs": [],
   "source": [
    "nr_points=data.shape[0]\n",
    "ratio_test=0.25 #how many datapoints shall be used for testing\n",
    "idx_train,idx_test=sklearn.model_selection.train_test_split(range(nr_points),test_size=ratio_test)\n"
   ]
  },
  {
   "cell_type": "markdown",
   "id": "8b0e93d9-a3ff-44a7-9165-be200f195518",
   "metadata": {},
   "source": [
    "# define kinds of meta_modells to train"
   ]
  },
  {
   "cell_type": "code",
   "execution_count": 5,
   "id": "98a7309d-9fb8-41f1-a367-dd2623264ba4",
   "metadata": {},
   "outputs": [],
   "source": [
    "nr_iter=20000\n",
    "Regressors=[]\n",
    "\n",
    "#quad estimators are commented out for now (take long)\n",
    "#when we have the significant variables, it should be no problem\n",
    "Regressors.append((\"nearest_neighbour\",KNeighborsRegressor()))\n",
    "Regressors.append((\"quad_nearest_neighbour\",Pipeline([('poly',PolynomialFeatures(2)),('knn'  ,KNeighborsRegressor())])))\n",
    "Regressors.append((\"decision_tree\",DecisionTreeRegressor()))\n",
    "Regressors.append((\"quad_decision_tree\",Pipeline([('poly',PolynomialFeatures(2)),('tree'  ,DecisionTreeRegressor())])))\n",
    "Regressors.append((\"Lasso\",Lasso(max_iter=nr_iter)))\n",
    "#Regressors.append((\"quad_Lasso\",Pipeline([('poly',PolynomialFeatures(2)),('lasso'  ,Lasso(max_iter=nr_iter))])))\n",
    "Regressors.append((\"ElasticNet\",ElasticNet(max_iter=nr_iter)))\n",
    "#Regressors.append((\"quad_ElasticNet\",Pipeline([('poly',PolynomialFeatures(2)),('ElasticNet'  ,ElasticNet(max_iter=nr_iter))])))\n",
    "Regressors.append((\"SVR\",SVR(max_iter=nr_iter)))\n",
    "#Regressors.append((\"quad_SVR\",Pipeline([('poly',PolynomialFeatures(2)),('SVR'  ,SVR(max_iter=nr_iter))])))\n",
    "#Regressors.append((\"SVRlin\",SVR(kernel=\"linear\",max_iter=nr_iter))) does not work well\n",
    "#Regressors.append((\"quad_SVRlin\",Pipeline([('poly',PolynomialFeatures(2)),('SVRlin'  ,SVR(kernel=\"linear\",max_iter=nr_iter))])))\n",
    "Regressors.append((\"KernelRidge\",KernelRidge()))\n",
    "#Regressors.append((\"quad_KernelRidge\",Pipeline([('poly',PolynomialFeatures(2)),('KernelRidge'  ,KernelRidge())])))\n",
    "Regressors.append((\"Ridge\",Ridge()))\n",
    "#Regressors.append((\"quad_KernelRidge\",Pipeline([('poly',PolynomialFeatures(2)),('Ridge'  ,Ridge())])))\n"
   ]
  },
  {
   "cell_type": "markdown",
   "id": "3929fb22-d33b-4266-832c-0c98a976182b",
   "metadata": {
    "tags": []
   },
   "source": [
    "# evaluate different metamodells"
   ]
  },
  {
   "cell_type": "code",
   "execution_count": 6,
   "id": "f4e1ef6f-f9a2-4344-856f-3da1e56c6e71",
   "metadata": {},
   "outputs": [],
   "source": [
    "#%%debug -b metamodell.py:123\n",
    "def evaluate_row(row_predicted,row_real,flag):\n",
    "    #error when predicting the resulting error directly\n",
    "    \n",
    "    if flag==0:\n",
    "        #error when predicting the errors for wez,cut for each qs and schicht\n",
    "        errors_qs_predicted=[row_predicted['error_wez0'],row_predicted['error_wez90'],row_predicted['error_delr0'],row_predicted['error_delr90']]\n",
    "        error_schicht_predicted=row_predicted['error_schicht']\n",
    "        error_ges_predicted=customstats.sqrt_MSE(errors_qs_predicted)+error_schicht_predicted\n",
    "    elif flag==1:\n",
    "        #error when predicting the errors for wez,cut and schicht\n",
    "        error_wez_predicted=row_predicted['error_wez']\n",
    "        error_spalt_predicted=row_predicted['error_delr']\n",
    "        error_schicht_predicted=row_predicted['error_schicht']\n",
    "        error_ges_predicted=customstats.sqrt_MSE([error_wez_predicted,error_spalt_predicted])+error_schicht_predicted    \n",
    "    elif flag==2:\n",
    "        error_ges_predicted=row_predicted['error_ges']\n",
    "    error_ges_real=row_real['error_ges']\n",
    "    error=customstats.rel_deviation(error_ges_real,error_ges_predicted)**2\n",
    "    return error\n",
    "def create_evaluate_row_func(flag):\n",
    "    def myfunc(*args,**kwargs):\n",
    "        return evaluate_row(*args,**kwargs,flag=flag)\n",
    "    return myfunc\n",
    "evaluate_row_funcs=[create_evaluate_row_func(i) for i in range(3)]\n",
    "needed_outputs=[]\n",
    "needed_outputs.append([i for i,name in enumerate(fields) if name in {'error_schicht','error_wez0', 'error_delr0', 'error_wez90', 'error_delr90'}])\n",
    "needed_outputs.append([i for i,name in enumerate(fields) if name in {'error_schicht','error_wez', 'error_delr'}])\n",
    "needed_outputs.append([i for i,name in enumerate(fields) if name in {'error_ges'}])\n",
    "\n",
    "evaluate_row_func_list=list(zip(evaluate_row_funcs,needed_outputs))\n",
    "#TODO evaluate_row-> list\n",
    "if True:\n",
    "    import warnings\n",
    "    warnings.filterwarnings('ignore')\n",
    "metamodell.tryout_metamodells(Regressors,data,nr_inputs,evaluate_row_func_list,fields,nr_tries=10)"
   ]
  },
  {
   "cell_type": "code",
   "execution_count": 7,
   "id": "7562fcbb-29d7-4234-8995-ebf1beb7a6bf",
   "metadata": {},
   "outputs": [],
   "source": [
    "%debug"
   ]
  },
  {
   "cell_type": "code",
   "execution_count": 8,
   "id": "488138b6-fdbd-4129-9cad-3ec3b2c4d8a9",
   "metadata": {},
   "outputs": [],
   "source": [
    "print(needed_outputs)"
   ]
  },
  {
   "cell_type": "code",
   "execution_count": null,
   "id": "e2da2591-9028-41e5-b1a9-55d371e0eeaa",
   "metadata": {},
   "outputs": [],
   "source": []
  }
 ],
 "metadata": {
  "git": {
   "suppress_outputs": true
  },
  "kernelspec": {
   "display_name": "Python 3 (ipykernel)",
   "language": "python",
   "name": "python3"
  },
  "language_info": {
   "codemirror_mode": {
    "name": "ipython",
    "version": 3
   },
   "file_extension": ".py",
   "mimetype": "text/x-python",
   "name": "python",
   "nbconvert_exporter": "python",
   "pygments_lexer": "ipython3",
   "version": "3.8.10"
  }
 },
 "nbformat": 4,
 "nbformat_minor": 5
}