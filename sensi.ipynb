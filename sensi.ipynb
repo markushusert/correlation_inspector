{
 "cells": [
  {
   "cell_type": "code",
   "execution_count": 1,
   "id": "79557ffe",
   "metadata": {
    "tags": []
   },
   "outputs": [],
   "source": [
    "#get current version of notebook from:\n",
    "#https://github.com/markushusert/correlation_inspector.git\n",
    "%matplotlib widget\n",
    "import pandas as pd\n",
    "import numpy as np\n",
    "import csv \n",
    "import matplotlib as mpl\n",
    "import matplotlib.pyplot as plt\n",
    "from matplotlib.widgets import TextBox\n",
    "import matplotlib\n",
    "import math\n",
    "import correlation_inspector\n",
    "mpl.rcParams['figure.dpi'] = 120\n"
   ]
  },
  {
   "cell_type": "markdown",
   "id": "1674961e",
   "metadata": {},
   "source": [
    "# load data from csv"
   ]
  },
  {
   "cell_type": "code",
   "execution_count": 2,
   "id": "8435f634",
   "metadata": {},
   "outputs": [],
   "source": [
    "filename=\"collected_results_both.csv\"\n",
    "def load():\n",
    "    \n",
    "    with open(filename,\"r\") as fil:\n",
    "        fields=[i.strip() for i in fil.readline().split(\",\")]\n",
    "    data=np.genfromtxt(filename,skip_header=1,delimiter=\",\")\n",
    "    return fields,data.transpose()\n",
    "fields,data=load()\n",
    "\n",
    "if \"both\" in filename:\n",
    "    groups=[]\n",
    "    groups.append(np.arange(200))\n",
    "    groups.append(np.arange(200,220))\n",
    "else:\n",
    "    groups=None"
   ]
  },
  {
   "cell_type": "markdown",
   "id": "a843e90f",
   "metadata": {},
   "source": [
    "# plot correlation-matrix"
   ]
  },
  {
   "cell_type": "code",
   "execution_count": 3,
   "id": "14ac410b",
   "metadata": {},
   "outputs": [],
   "source": [
    "path_to_image=\"../sensi_opti/generations/generation_0/calc_{calc_id}/Pics/without_edges0_cycle*.png\"#string which gives path to Skip to left side barimages if formattet with calc_id\n",
    "correl_inspect=correlation_inspector.correlation_inspector(data,fields,nr_inputs=21,image_path=path_to_image,ods_path=\"observation.ods\",groups=groups)\n",
    "correlation_inspector.out"
   ]
  },
  {
   "cell_type": "code",
   "execution_count": 4,
   "id": "d114261b-373d-4c09-8b13-7dee27d5453c",
   "metadata": {},
   "outputs": [],
   "source": [
    "correl_inspect.show_spreadsheet_view()"
   ]
  },
  {
   "cell_type": "code",
   "execution_count": 5,
   "id": "bd32fef1-31ad-445d-a94d-8164e8f514fa",
   "metadata": {},
   "outputs": [],
   "source": [
    "correl_inspect.print_highest_correlation(11,5)"
   ]
  },
  {
   "cell_type": "code",
   "execution_count": 6,
   "id": "3870f129-b49b-4f53-8eeb-def6810b2024",
   "metadata": {},
   "outputs": [],
   "source": [
    "nr_inputs=21\n",
    "correl=correl_inspect.cor_coef\n",
    "correl=correl[nr_inputs:,nr_inputs:]\n",
    "values,vectors=np.linalg.eig(correl)"
   ]
  },
  {
   "cell_type": "code",
   "execution_count": 7,
   "id": "554a05c4-98e2-4607-91ea-909394043604",
   "metadata": {},
   "outputs": [],
   "source": [
    "\n",
    "sortidx=np.argsort(-values)\n",
    "vectors_sorted=vectors[sortidx,:]\n",
    "vectors_sorted=vectors_sorted[:,sortidx]\n",
    "print(sortidx.shape)\n",
    "print(vectors.shape)\n",
    "print(vectors_sorted.shape)\n",
    "#plt.matshow(vectors_sorted)\n",
    "print(values)\n",
    "print(sum(values))"
   ]
  },
  {
   "cell_type": "code",
   "execution_count": 8,
   "id": "9d5b5bc7-1c6e-4fdd-87b2-55f5d2107c31",
   "metadata": {},
   "outputs": [],
   "source": [
    "idx_to_compute=[i for i in range(21,data.T.shape[1]) if not \"error\" in fields[i]]\n",
    "variance,vectors=correl_inspect.PCA(5,idx_to_compute)\n",
    "lim=0.8\n",
    "significant_dims=correl_inspect.get_significant_dimensions_of_pca_component(vectors,lim)\n",
    "for i,dim in enumerate(significant_dims):\n",
    "    print(f\"var:{variance[i]},fields{[fields[i] for i in dim]}\")\n",
    "correl_inspect.plot_PCA(variance,significant_dims,0.7)"
   ]
  },
  {
   "cell_type": "code",
   "execution_count": 9,
   "id": "bef1710f-1f87-45f1-b3be-281c36d6e60a",
   "metadata": {},
   "outputs": [],
   "source": [
    "%debug"
   ]
  },
  {
   "cell_type": "code",
   "execution_count": 10,
   "id": "ded2f377-4213-44a3-8291-29d85dc47ef5",
   "metadata": {},
   "outputs": [],
   "source": [
    "print(sum(variance))"
   ]
  },
  {
   "cell_type": "code",
   "execution_count": 11,
   "id": "8e5a5938-403a-49c5-80a5-38af3147e776",
   "metadata": {},
   "outputs": [],
   "source": [
    "for fun in [min,max]:\n",
    "    groups=correl_inspect.group_similar_outputs(0.8,fun)\n",
    "    correls=correl_inspect.get_highest_input_correl_of_groups(groups)\n",
    "    idx_sort=np.argsort(-np.array(correls))\n",
    "    correls=[correls[i] for i in idx_sort]\n",
    "    groups=[groups[i] for i in idx_sort]\n",
    "    for group,correl in zip(groups,correls):\n",
    "        print(f\"{correl}:{[fields[i] for i in group]}\")"
   ]
  },
  {
   "cell_type": "code",
   "execution_count": 12,
   "id": "3dccb605-f5f0-4e9e-b45d-f5e8d6e6ff86",
   "metadata": {},
   "outputs": [],
   "source": [
    "groupsmin=correl_inspect.group_similar_outputs(0.8,min)\n",
    "correls=correl_inspect.get_highest_input_correl_of_groups(groupsmin)\n",
    "for group,correl in zip(groupsmin,correls):\n",
    "    print(f\"{correl}:{[fields[i] for i in group]}\")"
   ]
  }
 ],
 "metadata": {
  "git": {
   "suppress_outputs": true
  },
  "kernelspec": {
   "display_name": "Python 3 (ipykernel)",
   "language": "python",
   "name": "python3"
  },
  "language_info": {
   "codemirror_mode": {
    "name": "ipython",
    "version": 3
   },
   "file_extension": ".py",
   "mimetype": "text/x-python",
   "name": "python",
   "nbconvert_exporter": "python",
   "pygments_lexer": "ipython3",
   "version": "3.8.10"
  },
  "toc-showcode": false
 },
 "nbformat": 4,
 "nbformat_minor": 5
}