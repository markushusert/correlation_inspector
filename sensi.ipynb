{
 "cells": [
  {
   "cell_type": "code",
   "execution_count": 1,
   "id": "79557ffe",
   "metadata": {
    "tags": []
   },
   "outputs": [],
   "source": [
    "%matplotlib widget\n",
    "import pandas as pd\n",
    "import numpy as np\n",
    "import csv \n",
    "import matplotlib as mpl\n",
    "import matplotlib.pyplot as plt\n",
    "from matplotlib.widgets import TextBox\n",
    "import matplotlib\n",
    "import math\n",
    "import correlation_inspector\n",
    "mpl.rcParams['figure.dpi'] = 120\n"
   ]
  },
  {
   "cell_type": "markdown",
   "id": "1674961e",
   "metadata": {},
   "source": [
    "# load data from csv"
   ]
  },
  {
   "cell_type": "code",
   "execution_count": 2,
   "id": "8435f634",
   "metadata": {},
   "outputs": [],
   "source": [
    "def load():\n",
    "    filename=\"collected_results.csv\"\n",
    "    fields=pd.read_csv(filename, index_col=0, nrows=0).columns.tolist()\n",
    "    data=np.genfromtxt(filename,skip_header=1,delimiter=\",\")\n",
    "    return fields,data.transpose()\n",
    "\n",
    "fields,data=load()"
   ]
  },
  {
   "cell_type": "markdown",
   "id": "a843e90f",
   "metadata": {},
   "source": [
    "# plot correlation-matrix"
   ]
  },
  {
   "cell_type": "code",
   "execution_count": 3,
   "id": "14ac410b",
   "metadata": {},
   "outputs": [],
   "source": [
    "path_to_image=\"../sensi_opti/generations/generation_0/calc_{calc_id}/Pics/without_edges*.png\"#string which gives path to images if formattet with calc_id\n",
    "correl_inspect=correlation_inspector.correlation_inspector(data,fields,image_path=path_to_image)"
   ]
  }
 ],
 "metadata": {
  "git": {
   "suppress_outputs": true
  },
  "kernelspec": {
   "display_name": "Python 3 (ipykernel)",
   "language": "python",
   "name": "python3"
  },
  "language_info": {
   "codemirror_mode": {
    "name": "ipython",
    "version": 3
   },
   "file_extension": ".py",
   "mimetype": "text/x-python",
   "name": "python",
   "nbconvert_exporter": "python",
   "pygments_lexer": "ipython3",
   "version": "3.8.10"
  },
  "toc-showcode": false
 },
 "nbformat": 4,
 "nbformat_minor": 5
}