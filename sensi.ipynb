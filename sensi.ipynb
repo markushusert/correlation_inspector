{
 "cells": [
  {
   "cell_type": "code",
   "execution_count": 1,
   "id": "79557ffe",
   "metadata": {
    "tags": []
   },
   "outputs": [],
   "source": [
    "%matplotlib widget\n",
    "import pandas as pd\n",
    "import numpy as np\n",
    "import csv \n",
    "import matplotlib as mpl\n",
    "import matplotlib.pyplot as plt\n",
    "from matplotlib.widgets import TextBox\n",
    "import matplotlib\n",
    "import math\n",
    "import panel as pn\n",
    "import correlation_inspector\n",
    "mpl.rcParams['figure.dpi'] = 120\n"
   ]
  },
  {
   "cell_type": "markdown",
   "id": "1674961e",
   "metadata": {},
   "source": [
    "# load data from csv"
   ]
  },
  {
   "cell_type": "code",
   "execution_count": 2,
   "id": "8435f634",
   "metadata": {},
   "outputs": [],
   "source": [
    "def load():\n",
    "    filename=\"collected_results.csv\"\n",
    "    with open(filename,\"r\") as fil:\n",
    "        fields=[i.strip() for i in fil.readline().split(\",\")]\n",
    "    data=np.genfromtxt(filename,skip_header=1,delimiter=\",\")\n",
    "    return fields,data.transpose()\n",
    "\n",
    "fields,data=load()"
   ]
  },
  {
   "cell_type": "markdown",
   "id": "a843e90f",
   "metadata": {},
   "source": [
    "# plot correlation-matrix"
   ]
  },
  {
   "cell_type": "code",
   "execution_count": 3,
   "id": "14ac410b",
   "metadata": {},
   "outputs": [],
   "source": [
    "path_to_image=\"../sensi_opti/generations/generation_0/calc_{calc_id}/Pics/without_edges*.png\"#string which gives path to images if formattet with calc_id\n",
    "correl_inspect=correlation_inspector.correlation_inspector(data,fields,nr_inputs=20,image_path=path_to_image)"
   ]
  },
  {
   "cell_type": "code",
   "execution_count": 4,
   "id": "28be7f65-4654-4551-8653-f7604d461dc2",
   "metadata": {},
   "outputs": [],
   "source": [
    "correl_inspect.show_spreadsheet_view()"
   ]
  },
  {
   "cell_type": "code",
   "execution_count": 5,
   "id": "76a20e8b-36eb-4284-9824-edd8d91a282c",
   "metadata": {},
   "outputs": [],
   "source": [
    "#correl_inspect.correl_overview_dataframe"
   ]
  },
  {
   "cell_type": "code",
   "execution_count": 6,
   "id": "c5486793-13da-47ac-bc38-37b54998f069",
   "metadata": {},
   "outputs": [],
   "source": [
    "#correl_inspect.fields"
   ]
  },
  {
   "cell_type": "code",
   "execution_count": null,
   "id": "40618482-a1c5-4355-83a6-d375ada22bc7",
   "metadata": {},
   "outputs": [],
   "source": []
  }
 ],
 "metadata": {
  "git": {
   "suppress_outputs": true
  },
  "kernelspec": {
   "display_name": "Python 3 (ipykernel)",
   "language": "python",
   "name": "python3"
  },
  "language_info": {
   "codemirror_mode": {
    "name": "ipython",
    "version": 3
   },
   "file_extension": ".py",
   "mimetype": "text/x-python",
   "name": "python",
   "nbconvert_exporter": "python",
   "pygments_lexer": "ipython3",
   "version": "3.8.10"
  },
  "toc-showcode": false
 },
 "nbformat": 4,
 "nbformat_minor": 5
}